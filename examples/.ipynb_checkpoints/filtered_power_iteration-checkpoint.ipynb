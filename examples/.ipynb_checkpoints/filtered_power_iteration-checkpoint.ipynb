{
 "cells": [
  {
   "cell_type": "markdown",
   "id": "798d2a10",
   "metadata": {},
   "source": [
    "# Filtered power iteration\n",
    "\n",
    "**by M. Wess, 2024**\n",
    "\n",
    "*This Notebook is part of the `td_evp` [documentation](https://markuswess.github.io/td_evp) on the implementation of time-domain methods for resonance problems in [NGSolve](https://ngsolve.org).*"
   ]
  },
  {
   "cell_type": "markdown",
   "id": "194bb749",
   "metadata": {},
   "source": [
    "The notation of the following is based on the preprint \n",
    "\n",
    "* [[NW24a]](https://markuswess.github.io/td_evp/intro.html#id2) Lothar Nannen and Markus Wess. *A krylov eigenvalue solver based on filtered time domain solutions.* 2024. [arXiv:2402.08515](https://arxiv.org/abs/2402.08515).\n",
    "\n",
    "## Introduction\n",
    "\n",
    "This notebook is designed to present an implementation of the main ideas of time-domain methods for resonance problems by applying a simple power iteration to a filtered resonance toy problem (computing the eigenvalues of the dirichlet Laplacian on a rectangle). "
   ]
  },
  {
   "cell_type": "markdown",
   "id": "0de5bec0",
   "metadata": {},
   "source": [
    "## Problem setting and definitions\n",
    "\n",
    "We want to approximate the resonance problem to find $(\\omega,u)$ with $\\omega>0$\n",
    "\n",
    "$$\n",
    "-\\Delta u = \\omega^2 u,\\quad +\\text{homogeneous Dirichlet boundary conditions}\n",
    "$$\n",
    "on the domain $\\Omega=(0,\\pi)\\times(0,\\pi/2)$.\n",
    "\n",
    "The eigenpairs of this problem are given by\n",
    "$$\n",
    "\\omega_{l,k}=\\sqrt{l^2+(2k)^2},\\quad u_{l,k}=\\sin(lx)\\sin(2ky),\\quad l,k=1,2,\\ldots\n",
    "$$"
   ]
  },
  {
   "cell_type": "markdown",
   "id": "d00fb9e8",
   "metadata": {},
   "source": [
    "The problem is approximated by a Galerkin method, which leads to generalized the matrix eigenvalue problem\n",
    "$$\n",
    "\\mathbf S \\mathbf u = \\omega^2\\mathbf M \\mathbf u.\n",
    "$$"
   ]
  },
  {
   "cell_type": "markdown",
   "id": "4fd45c46",
   "metadata": {},
   "source": [
    "We apply a power iteration to the auxiliary problem\n",
    "\n",
    "$$\n",
    "\\mathbf C u = \\mu \\mathbf u\n",
    "$$\n",
    "\n",
    "where the filtered discrete operator $\\mathbf C$ is given by\n",
    " \n",
    "$$C u = \\tau \\sum_{l=0}^{L-1}\\alpha(\\tau l)\\mathbf y_l(\\omega)$$\n",
    "\n",
    "for a given time step $\\tau>0$, a weight function\n",
    " $\\alpha$ and $\\mathbf y_l$ is the discrete time domain evolution (cf. [NW24a].(14))"
   ]
  },
  {
   "cell_type": "markdown",
   "id": "d34b7d4f",
   "metadata": {},
   "source": [
    "## Defining spaces and bilinear forms\n",
    "\n",
    "We choose a mass lumping finite element method for discretization, and assemble the stiffness and (inverse) mass matrix"
   ]
  },
  {
   "cell_type": "code",
   "execution_count": 52,
   "id": "4f1291c8",
   "metadata": {},
   "outputs": [
    {
     "data": {
      "application/vnd.jupyter.widget-view+json": {
       "model_id": "74d6111a9d754ca08d1025a444aa8a3c",
       "version_major": 2,
       "version_minor": 0
      },
      "text/plain": [
       "WebGuiWidget(layout=Layout(height='50vh', width='100%'), value={'gui_settings': {}, 'ngsolve_version': '6.2.24…"
      ]
     },
     "metadata": {},
     "output_type": "display_data"
    },
    {
     "name": "stdout",
     "output_type": "stream",
     "text": [
      "number of dofs =  889\n"
     ]
    }
   ],
   "source": [
    "from ngsolve import *\n",
    "from ngsolve.webgui import Draw\n",
    "from netgen.occ import *\n",
    "\n",
    "\n",
    "geo = OCCGeometry(Rectangle(pi,pi/2).Face(),dim=2)\n",
    "mesh = Mesh(geo.GenerateMesh(maxh = 0.2))\n",
    "Draw(mesh);\n",
    "\n",
    "order = 2\n",
    "fes = H1LumpingFESpace(mesh,order=order,dirichlet=mesh.Boundaries(\"default\"))\n",
    "print(\"number of dofs = \",fes.ndof)\n",
    "u,v = fes.TnT()\n",
    "mass = BilinearForm(u*v*dx(intrules=fes.GetIntegrationRules())).Assemble().mat\n",
    "stiffness = BilinearForm(grad(u)*grad(v)*dx).Assemble().mat\n",
    "massinv = mass.Inverse(freedofs = fes.FreeDofs())"
   ]
  },
  {
   "cell_type": "markdown",
   "id": "54509ce7",
   "metadata": {},
   "source": [
    "## Discrete filter function\n",
    "\n",
    "We set some parameters and take a look at the resulting discrete filter. Note that in real life applications the time-step $\\tau$ is chosen as large as possible to still obey the CFL condition. Here we just pick an arbitrary (small enough and thus stable) time-step."
   ]
  },
  {
   "cell_type": "code",
   "execution_count": 66,
   "id": "723f673f",
   "metadata": {},
   "outputs": [
    {
     "name": "stdout",
     "output_type": "stream",
     "text": [
      "first 10 resonances of the continuous problem:\n",
      "2.23606797749979\n",
      "2.8284271247461903\n",
      "3.605551275463989\n",
      "4.123105625617661\n",
      "4.47213595499958\n",
      "4.47213595499958\n",
      "5.0\n",
      "5.385164807134504\n",
      "5.656854249492381\n",
      "6.082762530298219\n"
     ]
    },
    {
     "data": {
      "image/png": "[encoded data removed]",
      "text/plain": [
       "<Figure size 432x288 with 1 Axes>"
      ]
     },
     "metadata": {
      "needs_background": "light"
     },
     "output_type": "display_data"
    }
   ],
   "source": [
    "import numpy as np\n",
    "import matplotlib.pyplot as pl\n",
    "\n",
    "\n",
    "w_min = 3.8\n",
    "w_max = 4.3\n",
    "\n",
    "tau = 0.02\n",
    "\n",
    "L = 300\n",
    "\n",
    "\n",
    "weightf = lambda t: 4/np.pi*np.cos((w_max+w_min)/2*t)*(w_max-w_min)/2*np.sinc((w_max-w_min)/2*t/np.pi)\n",
    "\n",
    "weights = weightf(tau*np.arange(L))\n",
    "\n",
    "def beta(omega):\n",
    "    if np.isscalar(omega):\n",
    "        q = 1\n",
    "    else:\n",
    "        q = np.ones(omega.shape)\n",
    "    \n",
    "    q_old = q\n",
    "    out = tau*weights[0]*q\n",
    "    for alpha in weights[1:]:\n",
    "        q_new = 2*q-tau**2*omega**2*q-q_old\n",
    "        q_old = q\n",
    "        q = q_new\n",
    "        out += tau*alpha*q\n",
    "    return out\n",
    "\n",
    "omegas = np.arange(0,10,0.01)\n",
    "\n",
    "betas = beta(omegas)\n",
    "pl.plot(omegas,betas);\n",
    "evs = np.sqrt(np.array([l**2+(2*k)**2 for l in range(1,10) for k in range(1,10)]))\n",
    "pl.plot(evs,beta(evs),'o')\n",
    "pl.xlim((0,10))\n",
    "print(\"first 10 resonances of the continuous problem:\")\n",
    "for res in np.sort(evs)[:10]:\n",
    "    print(res)"
   ]
  },
  {
   "cell_type": "markdown",
   "id": "2df6aa5f",
   "metadata": {},
   "source": [
    "Looking at the discrete filter above and the values of $\\beta(\\omega_{l,k})$ (i.e., the eigenvalues of the filtered operator $\\mathbf C$) shows that applying a power iteration to $\\mathbf C$ will yield an approximation to the eigenfunction approximating $u_{1,2}=\\sin(x)\\sin(4y)$ corresponding to $\\omega_{1,2}=\\sqrt{17}$."
   ]
  },
  {
   "cell_type": "markdown",
   "id": "89b25bfc",
   "metadata": {},
   "source": [
    "## Defining the filtered operator\n",
    "\n",
    "One application of the filtered operator $\\mathbf C$ propagates the given initial data and applies the filter over the time evolution."
   ]
  },
  {
   "cell_type": "code",
   "execution_count": 64,
   "id": "b59087bc",
   "metadata": {},
   "outputs": [],
   "source": [
    "u = GridFunction(fes)\n",
    "u.vec.SetRandom()\n",
    "tmpvec = u.vec.CreateVector()\n",
    "u_old = u.vec.CreateVector()\n",
    "u_new = u.vec.CreateVector()\n",
    "\n",
    "\n",
    "\n",
    "\n",
    "drawevery = 1\n",
    "\n",
    "def C(uvec, out, drawscene = None):   \n",
    "    u_old.data = uvec\n",
    "    \n",
    "    out.data = tau*weights[0]*uvec\n",
    "    for i in range(1,len(weights)):\n",
    "        alpha = weights[i]\n",
    "        u_new.data = 2*uvec-u_old\n",
    "        u_new.data -= tau**2*massinv@stiffness*uvec\n",
    "        u_new.data[~fes.FreeDofs()] = 0.\n",
    "        u_old.data = uvec\n",
    "        uvec.data = u_new\n",
    "        out.data += tau*alpha*uvec\n",
    "        if drawscene:\n",
    "            if not i%drawevery:\n",
    "                drawscene.Redraw()"
   ]
  },
  {
   "cell_type": "markdown",
   "id": "38177ac7",
   "metadata": {},
   "source": [
    "## Applying the power iteration"
   ]
  },
  {
   "cell_type": "code",
   "execution_count": 65,
   "id": "e468dd41",
   "metadata": {
    "scrolled": false
   },
   "outputs": [
    {
     "name": "stdout",
     "output_type": "stream",
     "text": [
      "## step  0\n"
     ]
    },
    {
     "data": {
      "application/vnd.jupyter.widget-view+json": {
       "model_id": "88ebdf154ca4475c85c56171896473ab",
       "version_major": 2,
       "version_minor": 0
      },
      "text/plain": [
       "WebGuiWidget(layout=Layout(height='50vh', width='100%'), value={'gui_settings': {}, 'ngsolve_version': '6.2.24…"
      ]
     },
     "metadata": {},
     "output_type": "display_data"
    },
    {
     "name": "stdout",
     "output_type": "stream",
     "text": [
      "approximated eigenvalue:  3.4722963667414426\n",
      "## step  1\n"
     ]
    },
    {
     "data": {
      "application/vnd.jupyter.widget-view+json": {
       "model_id": "19106b8773e84c229604445594d61d52",
       "version_major": 2,
       "version_minor": 0
      },
      "text/plain": [
       "WebGuiWidget(layout=Layout(height='50vh', width='100%'), value={'gui_settings': {}, 'ngsolve_version': '6.2.24…"
      ]
     },
     "metadata": {},
     "output_type": "display_data"
    },
    {
     "name": "stdout",
     "output_type": "stream",
     "text": [
      "approximated eigenvalue:  3.809172198380957\n",
      "## step  2\n"
     ]
    },
    {
     "data": {
      "application/vnd.jupyter.widget-view+json": {
       "model_id": "d3439a48be5c41b4a46b01a89864a912",
       "version_major": 2,
       "version_minor": 0
      },
      "text/plain": [
       "WebGuiWidget(layout=Layout(height='50vh', width='100%'), value={'gui_settings': {}, 'ngsolve_version': '6.2.24…"
      ]
     },
     "metadata": {},
     "output_type": "display_data"
    },
    {
     "name": "stdout",
     "output_type": "stream",
     "text": [
      "approximated eigenvalue:  4.062817560251173\n",
      "## step  3\n"
     ]
    },
    {
     "data": {
      "application/vnd.jupyter.widget-view+json": {
       "model_id": "d9dc3d3942244f49ae442cebca801734",
       "version_major": 2,
       "version_minor": 0
      },
      "text/plain": [
       "WebGuiWidget(layout=Layout(height='50vh', width='100%'), value={'gui_settings': {}, 'ngsolve_version': '6.2.24…"
      ]
     },
     "metadata": {},
     "output_type": "display_data"
    },
    {
     "name": "stdout",
     "output_type": "stream",
     "text": [
      "approximated eigenvalue:  4.1166467971842104\n",
      "## step  4\n"
     ]
    },
    {
     "data": {
      "application/vnd.jupyter.widget-view+json": {
       "model_id": "71bcd4cb709f4e908fe6fb7a0b4539ec",
       "version_major": 2,
       "version_minor": 0
      },
      "text/plain": [
       "WebGuiWidget(layout=Layout(height='50vh', width='100%'), value={'gui_settings': {}, 'ngsolve_version': '6.2.24…"
      ]
     },
     "metadata": {},
     "output_type": "display_data"
    },
    {
     "name": "stdout",
     "output_type": "stream",
     "text": [
      "approximated eigenvalue:  4.12231518621999\n",
      "## step  5\n"
     ]
    },
    {
     "data": {
      "application/vnd.jupyter.widget-view+json": {
       "model_id": "3cf84dbb6b50410dac5b37a4217ea175",
       "version_major": 2,
       "version_minor": 0
      },
      "text/plain": [
       "WebGuiWidget(layout=Layout(height='50vh', width='100%'), value={'gui_settings': {}, 'ngsolve_version': '6.2.24…"
      ]
     },
     "metadata": {},
     "output_type": "display_data"
    },
    {
     "name": "stdout",
     "output_type": "stream",
     "text": [
      "approximated eigenvalue:  4.122847888520569\n",
      "## step  6\n"
     ]
    },
    {
     "data": {
      "application/vnd.jupyter.widget-view+json": {
       "model_id": "1d1396bdf2ee4a2f89356585d13b0025",
       "version_major": 2,
       "version_minor": 0
      },
      "text/plain": [
       "WebGuiWidget(layout=Layout(height='50vh', width='100%'), value={'gui_settings': {}, 'ngsolve_version': '6.2.24…"
      ]
     },
     "metadata": {},
     "output_type": "display_data"
    },
    {
     "name": "stdout",
     "output_type": "stream",
     "text": [
      "approximated eigenvalue:  4.12289736966135\n",
      "## step  7\n"
     ]
    },
    {
     "data": {
      "application/vnd.jupyter.widget-view+json": {
       "model_id": "b9526fa39e1b4e78a260284ec5bd54f9",
       "version_major": 2,
       "version_minor": 0
      },
      "text/plain": [
       "WebGuiWidget(layout=Layout(height='50vh', width='100%'), value={'gui_settings': {}, 'ngsolve_version': '6.2.24…"
      ]
     },
     "metadata": {},
     "output_type": "display_data"
    },
    {
     "name": "stdout",
     "output_type": "stream",
     "text": [
      "approximated eigenvalue:  4.122901960066693\n",
      "## step  8\n"
     ]
    },
    {
     "data": {
      "application/vnd.jupyter.widget-view+json": {
       "model_id": "7fc764bc65d14ab0aef997a464cacf15",
       "version_major": 2,
       "version_minor": 0
      },
      "text/plain": [
       "WebGuiWidget(layout=Layout(height='50vh', width='100%'), value={'gui_settings': {}, 'ngsolve_version': '6.2.24…"
      ]
     },
     "metadata": {},
     "output_type": "display_data"
    },
    {
     "name": "stdout",
     "output_type": "stream",
     "text": [
      "approximated eigenvalue:  4.122902385814379\n",
      "## step  9\n"
     ]
    },
    {
     "data": {
      "application/vnd.jupyter.widget-view+json": {
       "model_id": "28251acf20324e649ac76b45dc7ec795",
       "version_major": 2,
       "version_minor": 0
      },
      "text/plain": [
       "WebGuiWidget(layout=Layout(height='50vh', width='100%'), value={'gui_settings': {}, 'ngsolve_version': '6.2.24…"
      ]
     },
     "metadata": {},
     "output_type": "display_data"
    },
    {
     "name": "stdout",
     "output_type": "stream",
     "text": [
      "approximated eigenvalue:  4.122902425295543\n"
     ]
    }
   ],
   "source": [
    "N = 10\n",
    "\n",
    "\n",
    "for i in range(N):\n",
    "    print(\"## step \",i)\n",
    "    scene = Draw(u);\n",
    "    C(u.vec,tmpvec,scene)\n",
    "    norm = tmpvec.Norm()\n",
    "    u.vec.data = 1/norm*tmpvec\n",
    "    tmpvec.data = mass * u.vec\n",
    "    \n",
    "    normm = InnerProduct (u.vec,tmpvec)\n",
    "    tmpvec.data = stiffness * u.vec    \n",
    "    norms = InnerProduct (u.vec,tmpvec)\n",
    "    \n",
    "    approx_w = sqrt(norms/normm)\n",
    "    print(\"approximated eigenvalue: \",approx_w)"
   ]
  },
  {
   "cell_type": "code",
   "execution_count": null,
   "id": "c7aadf7c",
   "metadata": {},
   "outputs": [],
   "source": []
  },
  {
   "cell_type": "code",
   "execution_count": null,
   "id": "8eec0824",
   "metadata": {},
   "outputs": [],
   "source": []
  }
 ],
 "metadata": {
  "kernelspec": {
   "display_name": "Python 3 (ipykernel)",
   "language": "python",
   "name": "python3"
  },
  "language_info": {
   "codemirror_mode": {
    "name": "ipython",
    "version": 3
   },
   "file_extension": ".py",
   "mimetype": "text/x-python",
   "name": "python",
   "nbconvert_exporter": "python",
   "pygments_lexer": "ipython3",
   "version": "3.10.12"
  }
 },
 "nbformat": 4,
 "nbformat_minor": 5
}
