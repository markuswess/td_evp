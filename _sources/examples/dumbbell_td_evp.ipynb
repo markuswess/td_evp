{
 "cells": [
  {
   "cell_type": "markdown",
   "id": "63e924d4",
   "metadata": {},
   "source": [
    "# Resonances of a 2d dumbbell\n",
    "\n",
    "**by M. Wess, 2024**\n",
    "\n",
    "*This Notebook is part of the `td_evp` [documentation](https://markuswess.github.io/td_evp) on the implementation of time-domain methods for resonance problems in [NGSolve](https://ngsolve.org).*"
   ]
  },
  {
   "cell_type": "markdown",
   "id": "c6a545fd",
   "metadata": {},
   "source": [
    "## Introduction\n",
    "\n",
    "This notebook is designed to present an implementation of the algorithm for solving resonance problems presented in \n",
    "\n",
    "* [[NW24a]](https://markuswess.github.io/td_evp/intro.html#id2) Lothar Nannen and Markus Wess. *A krylov eigenvalue solver based on filtered time domain solutions.* 2024. [arXiv:2402.08515](https://arxiv.org/abs/2402.08515).\n",
    "\n",
    "In particular, we solve the two dimensional problems from Section 3.1."
   ]
  },
  {
   "cell_type": "markdown",
   "id": "72af7f9f",
   "metadata": {},
   "source": [
    "## Implementation\n",
    "\n",
    "We start bei doing the necessary imports"
   ]
  },
  {
   "cell_type": "code",
   "execution_count": 1,
   "id": "f18613c6",
   "metadata": {},
   "outputs": [],
   "source": [
    "from ngsolve import *\n",
    "from ngsolve.webgui import Draw\n",
    "from netgen.occ import *\n",
    "\n",
    "import numpy as np\n",
    "import scipy.linalg as spl\n",
    "import matplotlib.pyplot as pl"
   ]
  },
  {
   "cell_type": "markdown",
   "id": "a48dcfe0",
   "metadata": {},
   "source": [
    "### The filtered operator"
   ]
  },
  {
   "cell_type": "code",
   "execution_count": 2,
   "id": "c96268af",
   "metadata": {},
   "outputs": [],
   "source": [
    "class FilteredC(BaseMatrix):\n",
    "    def __init__(self, mata, matm_inv, tau, weights, freedofs = None):\n",
    "        super().__init__()\n",
    "        self.dt = tau\n",
    "        self.weights = weights\n",
    "        self.nsteps = len(weights)\n",
    "        \n",
    "        self.mata = mata\n",
    "        self.matm_inv = matm_inv\n",
    "        \n",
    "        self.freedofs=freedofs\n",
    "        \n",
    "        \n",
    "        self.vecu = self.mata.CreateColVector()\n",
    "        self.tmpvec1 = self.mata.CreateColVector()\n",
    "        self.tmpvec2 = self.mata.CreateColVector()\n",
    "\n",
    "\n",
    "    def CreateColVector(self):\n",
    "        return self.mata.CreateColVector()\n",
    "    \n",
    "    def Shape(self):\n",
    "        return self.mata.shape\n",
    "    \n",
    "    def CreateVector(self,col):\n",
    "        return self.mata.CreateVector(col)\n",
    "    \n",
    "    def Mult(self,rhs,out):\n",
    "        with TaskManager():\n",
    "            self.vecu.data = rhs\n",
    "            tau = self.dt\n",
    "            out.data = tau*weights[0]*self.vecu\n",
    "            t = 0\n",
    "            \n",
    "            unew = self.tmpvec1\n",
    "            uold = self.tmpvec2\n",
    "            uold.data = self.vecu\n",
    "            \n",
    "            with TaskManager():\n",
    "                for i in range(1,self.nsteps):\n",
    "                    t += tau       \n",
    "                    #print(\"\\r time = {}, step = {}\".format(t,i),end=\"\")\n",
    "\n",
    "                    unew.data = 2*self.vecu - uold \n",
    "                    unew.data -= tau**2 * self.matm_inv@self.mata * self.vecu\n",
    "                    if self.freedofs:\n",
    "                        unew.data[~self.freedofs] = 0.\n",
    "                    uold.data = self.vecu\n",
    "                    self.vecu.data = unew.data\n",
    "\n",
    "                    out.data += tau*weights[i]*self.vecu"
   ]
  },
  {
   "cell_type": "markdown",
   "id": "b386efee",
   "metadata": {},
   "source": [
    "### Geometry and mesh"
   ]
  },
  {
   "cell_type": "code",
   "execution_count": 3,
   "id": "3ebe636c",
   "metadata": {},
   "outputs": [
    {
     "data": {
      "application/vnd.jupyter.widget-view+json": {
       "model_id": "5a612a2adf2f461c9c0803da810da2a9",
       "version_major": 2,
       "version_minor": 0
      },
      "text/plain": [
       "WebGuiWidget(layout=Layout(height='50vh', width='100%'), value={'ngsolve_version': 'Netgen x.x', 'mesh_dim': 3…"
      ]
     },
     "metadata": {},
     "output_type": "display_data"
    },
    {
     "data": {
      "application/vnd.jupyter.widget-view+json": {
       "model_id": "f4f53c7332a8481c9d4de05424a81af0",
       "version_major": 2,
       "version_minor": 0
      },
      "text/plain": [
       "WebGuiWidget(layout=Layout(height='50vh', width='100%'), value={'gui_settings': {}, 'ngsolve_version': '6.2.24…"
      ]
     },
     "metadata": {},
     "output_type": "display_data"
    }
   ],
   "source": [
    "r_l = 1.5\n",
    "r_r = 0.15\n",
    "d = 0.03\n",
    "w = 0.03\n",
    "\n",
    "\n",
    "circ_left = Circle( (-r_l-w,0), r_l).Face()\n",
    "circ_right = Circle( (r_r+w,0), r_r).Face()\n",
    "handle = MoveTo(-r_l,-d).Rectangle(r_l+r_r,2*d).Face()\n",
    "\n",
    "dumbbell = circ_left+handle+circ_right\n",
    "geo = OCCGeometry(dumbbell,dim=2)\n",
    "Draw(dumbbell);\n",
    "\n",
    "maxh = 2*d\n",
    "mesh = Mesh(geo.GenerateMesh(maxh = maxh))\n",
    "mesh.Curve(2)\n",
    "Draw(mesh);"
   ]
  },
  {
   "cell_type": "code",
   "execution_count": 4,
   "id": "40d01c66",
   "metadata": {},
   "outputs": [
    {
     "name": "stdout",
     "output_type": "stream",
     "text": [
      "nDoF:  14613\n"
     ]
    }
   ],
   "source": [
    "order = 2\n",
    "fes = H1LumpingFESpace(mesh,order=order)\n",
    "print(\"nDoF: \",fes.ndof)\n",
    "u,v = fes.TnT()\n",
    "mass = BilinearForm(u*v*dx(intrules=fes.GetIntegrationRules()),diagonal=True).Assemble().mat\n",
    "stiffness = BilinearForm(grad(u)*grad(v)*dx).Assemble().mat\n",
    "massinv = mass.Inverse()"
   ]
  },
  {
   "cell_type": "markdown",
   "id": "9e430fa8",
   "metadata": {},
   "source": [
    "### Determine time step by power iteration"
   ]
  },
  {
   "cell_type": "code",
   "execution_count": 5,
   "id": "7d54f503",
   "metadata": {},
   "outputs": [
    {
     "name": "stdout",
     "output_type": "stream",
     "text": [
      "estimated largest eigenvalue:  49228.18216580044\n",
      "by power iteration stable for tau = 0.009014115036549765\n"
     ]
    }
   ],
   "source": [
    "tol = 1e-4\n",
    "tmpv = stiffness.CreateVector()\n",
    "tmpv2 = stiffness.CreateVector()\n",
    "tmpv.SetRandom()\n",
    "tmpv /= tmpv.Norm()\n",
    "mus = [1]\n",
    "for i in range(500):\n",
    "    #print(\"i = {}\".format(i))\n",
    "    tmpv2.data = tmpv\n",
    "    tmpv.data = massinv@stiffness*tmpv2\n",
    "    mu = InnerProduct(tmpv2,tmpv)/InnerProduct(tmpv2,tmpv2)\n",
    "    tmpv /= tmpv.Norm()\n",
    "    mus.append(mu)\n",
    "    if mus[-1]/mus[-2]<1+tol:\n",
    "        break\n",
    "        \n",
    "lammax = mus[-1]*(1+tol*200)\n",
    "print(\"estimated largest eigenvalue: \",lammax)\n",
    "tau = np.sqrt(4/lammax)\n",
    "print(\"by power iteration stable for tau = {}\".format(tau))\n"
   ]
  },
  {
   "cell_type": "markdown",
   "id": "759eef9e",
   "metadata": {},
   "source": [
    "### Define and plot filter function"
   ]
  },
  {
   "cell_type": "code",
   "execution_count": 6,
   "id": "6ac74e5c",
   "metadata": {},
   "outputs": [
    {
     "data": {
      "image/png": "[encoded data removed]",
      "text/plain": [
       "<Figure size 432x288 with 1 Axes>"
      ]
     },
     "metadata": {
      "needs_background": "light"
     },
     "output_type": "display_data"
    }
   ],
   "source": [
    "w_min = 0\n",
    "w_max = 3\n",
    "\n",
    "L = 200\n",
    "endT = L*tau\n",
    "\n",
    "weightf = lambda t: 4/np.pi*np.cos((w_max+w_min)/2*t)*(w_max-w_min)/2*np.sinc((w_max-w_min)/2*t/np.pi)\n",
    "\n",
    "weights = weightf(tau*np.arange(L))\n",
    "\n",
    "\n",
    "def beta(omega):\n",
    "    if np.isscalar(omega):\n",
    "        q = 1\n",
    "    else:\n",
    "        q = np.ones(omega.shape)\n",
    "    \n",
    "    q_old = q\n",
    "    out = tau*weights[0]*q\n",
    "    for alpha in weights[1:]:\n",
    "        q_new = 2*q-tau**2*omega**2*q-q_old\n",
    "        q_old = q\n",
    "        q = q_new\n",
    "        out += tau*alpha*q\n",
    "    return out\n",
    "\n",
    "omegas = np.arange(0,20,0.01)\n",
    "\n",
    "betas = beta(omegas)\n",
    "pl.plot(omegas,betas);"
   ]
  },
  {
   "cell_type": "markdown",
   "id": "159d9f54",
   "metadata": {},
   "source": [
    "### It remains to start the Krylov loop"
   ]
  },
  {
   "cell_type": "code",
   "execution_count": 7,
   "id": "6f53c72b",
   "metadata": {},
   "outputs": [
    {
     "name": "stdout",
     "output_type": "stream",
     "text": [
      "first 10 approximated eigenvalues\n",
      "1.7068135620766916e-06\n",
      "1.2015955703259844\n",
      "1.2275073463471204\n",
      "1.9051215442919904\n",
      "2.0363109063162037\n",
      "2.2840876468299025\n",
      "2.579927270284838\n",
      "2.801083497774604\n",
      "2.889397348173861\n",
      "3.5454948557875094\n"
     ]
    },
    {
     "data": {
      "image/png": "[encoded data removed]",
      "text/plain": [
       "<Figure size 432x288 with 1 Axes>"
      ]
     },
     "metadata": {
      "needs_background": "light"
     },
     "output_type": "display_data"
    }
   ],
   "source": [
    "\n",
    "maxsteps = 25\n",
    "\n",
    "\n",
    "C = FilteredC(stiffness,massinv,tau,weights)\n",
    "\n",
    "\n",
    "errsmin = []\n",
    "resmin = []\n",
    "\n",
    "tol = 1e-6\n",
    "solveevery = 1\n",
    "\n",
    "tmpvec = mass.CreateVector()\n",
    "vecs = MultiVector(tmpvec,0)\n",
    "\n",
    "tmpvec.SetRandom()\n",
    "tmpvec.data = 1/tmpvec.Norm()*tmpvec\n",
    "\n",
    "vecs.Append(tmpvec)\n",
    "\n",
    "\n",
    "pl.figure()\n",
    "pl.plot(omegas,betas);\n",
    "pl.xlim((0,10))\n",
    "for i in range(maxsteps):\n",
    "    #print(\"\\n Krylowstep = {}\".format(i))\n",
    "\n",
    "    tmpvec.data = C*vecs[-1]\n",
    "    vecs.AppendOrthogonalize(tmpvec)\n",
    "    \n",
    "    if i%solveevery == 0:\n",
    "        tvecs = MultiVector(tmpvec,len(vecs))\n",
    "        tvecs.data = stiffness*vecs\n",
    "        tvecs2 = MultiVector(tmpvec,len(vecs))\n",
    "        tvecs2.data = mass*vecs\n",
    "\n",
    "        matm_proj = InnerProduct(tvecs2,vecs)\n",
    "        mats_proj = InnerProduct(tvecs,vecs)\n",
    "        lam,v = spl.eigh(mats_proj.NumPy(),matm_proj.NumPy())\n",
    "\n",
    "        lam = np.sqrt(np.abs(lam))\n",
    "        for li in lam:\n",
    "            pl.plot(li.real,1/maxsteps*i,'xr')\n",
    "        \n",
    "\n",
    "print(\"first 10 approximated eigenvalues\")\n",
    "for l in np.sort(lam)[:10]:\n",
    "    print(l)\n"
   ]
  },
  {
   "cell_type": "code",
   "execution_count": 8,
   "id": "395fc993",
   "metadata": {
    "scrolled": false
   },
   "outputs": [
    {
     "data": {
      "application/vnd.jupyter.widget-view+json": {
       "model_id": "9ac2d4a6bd5c47fab307b799595f11a4",
       "version_major": 2,
       "version_minor": 0
      },
      "text/plain": [
       "WebGuiWidget(layout=Layout(height='50vh', width='100%'), value={'gui_settings': {}, 'ngsolve_version': '6.2.24…"
      ]
     },
     "metadata": {},
     "output_type": "display_data"
    },
    {
     "data": {
      "application/vnd.jupyter.widget-view+json": {
       "model_id": "163f717cd50e443c8b39b46ae38fdc44",
       "version_major": 2,
       "version_minor": 0
      },
      "text/plain": [
       "WebGuiWidget(layout=Layout(height='50vh', width='100%'), value={'gui_settings': {}, 'ngsolve_version': '6.2.24…"
      ]
     },
     "metadata": {},
     "output_type": "display_data"
    },
    {
     "data": {
      "application/vnd.jupyter.widget-view+json": {
       "model_id": "c98a3a4c80454866a5938fea7b7e402c",
       "version_major": 2,
       "version_minor": 0
      },
      "text/plain": [
       "WebGuiWidget(layout=Layout(height='50vh', width='100%'), value={'gui_settings': {}, 'ngsolve_version': '6.2.24…"
      ]
     },
     "metadata": {},
     "output_type": "display_data"
    },
    {
     "data": {
      "application/vnd.jupyter.widget-view+json": {
       "model_id": "2693195baa0a47c5894fb48377b7bba3",
       "version_major": 2,
       "version_minor": 0
      },
      "text/plain": [
       "WebGuiWidget(layout=Layout(height='50vh', width='100%'), value={'gui_settings': {}, 'ngsolve_version': '6.2.24…"
      ]
     },
     "metadata": {},
     "output_type": "display_data"
    }
   ],
   "source": [
    "eigf = (vecs*Matrix(v.real)).Evaluate()\n",
    "\n",
    "gfu = GridFunction(fes)\n",
    "\n",
    "for i in range(1,5):\n",
    "    gfu.vec.data = eigf[i]\n",
    "    Draw(gfu)"
   ]
  },
  {
   "cell_type": "code",
   "execution_count": null,
   "id": "69006f0a",
   "metadata": {},
   "outputs": [],
   "source": []
  }
 ],
 "metadata": {
  "kernelspec": {
   "display_name": "Python 3 (ipykernel)",
   "language": "python",
   "name": "python3"
  },
  "language_info": {
   "codemirror_mode": {
    "name": "ipython",
    "version": 3
   },
   "file_extension": ".py",
   "mimetype": "text/x-python",
   "name": "python",
   "nbconvert_exporter": "python",
   "pygments_lexer": "ipython3",
   "version": "3.10.12"
  }
 },
 "nbformat": 4,
 "nbformat_minor": 5
}
