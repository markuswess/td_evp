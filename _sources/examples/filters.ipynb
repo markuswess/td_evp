{
 "cells": [
  {
   "cell_type": "markdown",
   "id": "798d2a10",
   "metadata": {},
   "source": [
    "# Time domain filters\n",
    "\n",
    "**by M. Wess, 2024**\n",
    "\n",
    "*This Notebook is part of the `td_evp` [documentation](https://markuswess.github.io/td_evp) on the implementation of time-domain methods for resonance problems in [NGSolve](https://ngsolve.org).*"
   ]
  },
  {
   "cell_type": "markdown",
   "id": "194bb749",
   "metadata": {},
   "source": [
    "The notation is based on the preprint \n",
    "\n",
    "[[NW24a]](https://markuswess.github.io/td_evp/intro.html#id2) Lothar Nannen and Markus Wess. *A krylov eigenvalue solver based on filtered time domain solutions.* 2024. [arXiv:2402.08515](https://arxiv.org/abs/2402.08515)."
   ]
  },
  {
   "cell_type": "markdown",
   "id": "d34b7d4f",
   "metadata": {},
   "source": [
    "We construct the discrete filter function (cf. Lemma 2.3)\n",
    " \n",
    "$$\\beta_\\alpha(\\omega) = \\tau \\sum_{l=0}^{L-1}\\alpha(\\tau l)q_l(\\omega)$$\n",
    "\n",
    "\n",
    "for a given time step $\\tau>0$, a weight function $\\alpha$ and the discrete time evolution $q_l(\\omega)$ given by (cf. [NW24a].(14))\n",
    "\n",
    "$$\n",
    "q_{-1}(\\omega)=1,\\quad q_0(\\omega) = 1,\\quad q_{l+1}(\\omega) = (2-\\tau^2\\omega^2)q_l(\\omega)-q_{l-1}(\\omega).\n",
    "$$"
   ]
  },
  {
   "cell_type": "code",
   "execution_count": 36,
   "id": "b59087bc",
   "metadata": {},
   "outputs": [],
   "source": [
    "import numpy as np\n",
    "import matplotlib.pyplot as pl\n",
    "\n",
    "def beta(omega, tau, weights):\n",
    "    if np.isscalar(omega):\n",
    "        q = 1\n",
    "    else:\n",
    "        q = np.ones(omega.shape)\n",
    "    \n",
    "    q_old = q\n",
    "    out = tau*weights[0]*q\n",
    "    for alpha in weights[1:]:\n",
    "        q_new = 2*q-tau**2*omega**2*q-q_old\n",
    "        q_old = q\n",
    "        q = q_new\n",
    "        out += tau*alpha*q\n",
    "    return out"
   ]
  },
  {
   "cell_type": "markdown",
   "id": "e449f050",
   "metadata": {},
   "source": [
    "We pick the weight function from [NW24a].(10) with the goal that $\\beta$ approximates the characteristic function."
   ]
  },
  {
   "cell_type": "code",
   "execution_count": 1,
   "id": "24392638",
   "metadata": {},
   "outputs": [
    {
     "ename": "NameError",
     "evalue": "name 'np' is not defined",
     "output_type": "error",
     "traceback": [
      "\u001b[0;31m---------------------------------------------------------------------------\u001b[0m",
      "\u001b[0;31mNameError\u001b[0m                                 Traceback (most recent call last)",
      "Input \u001b[0;32mIn [1]\u001b[0m, in \u001b[0;36m<cell line: 9>\u001b[0;34m()\u001b[0m\n\u001b[1;32m      7\u001b[0m weightf \u001b[38;5;241m=\u001b[39m \u001b[38;5;28;01mlambda\u001b[39;00m t: \u001b[38;5;241m4\u001b[39m\u001b[38;5;241m/\u001b[39mnp\u001b[38;5;241m.\u001b[39mpi\u001b[38;5;241m*\u001b[39mnp\u001b[38;5;241m.\u001b[39mcos((w_max\u001b[38;5;241m+\u001b[39mw_min)\u001b[38;5;241m/\u001b[39m\u001b[38;5;241m2\u001b[39m\u001b[38;5;241m*\u001b[39mt)\u001b[38;5;241m*\u001b[39m(w_max\u001b[38;5;241m-\u001b[39mw_min)\u001b[38;5;241m/\u001b[39m\u001b[38;5;241m2\u001b[39m\u001b[38;5;241m*\u001b[39mnp\u001b[38;5;241m.\u001b[39msinc((w_max\u001b[38;5;241m-\u001b[39mw_min)\u001b[38;5;241m/\u001b[39m\u001b[38;5;241m2\u001b[39m\u001b[38;5;241m*\u001b[39mt\u001b[38;5;241m/\u001b[39mnp\u001b[38;5;241m.\u001b[39mpi)\n\u001b[1;32m      9\u001b[0m \u001b[38;5;28;01mfor\u001b[39;00m L \u001b[38;5;129;01min\u001b[39;00m (\u001b[38;5;241m10\u001b[39m,\u001b[38;5;241m20\u001b[39m,\u001b[38;5;241m50\u001b[39m,\u001b[38;5;241m100\u001b[39m,\u001b[38;5;241m1000\u001b[39m):\n\u001b[0;32m---> 10\u001b[0m     weights \u001b[38;5;241m=\u001b[39m weightf(tau\u001b[38;5;241m*\u001b[39m\u001b[43mnp\u001b[49m\u001b[38;5;241m.\u001b[39marange(L))\n\u001b[1;32m     12\u001b[0m     omegas \u001b[38;5;241m=\u001b[39m np\u001b[38;5;241m.\u001b[39marange(\u001b[38;5;241m0\u001b[39m,\u001b[38;5;241m100\u001b[39m,\u001b[38;5;241m0.1\u001b[39m)\n\u001b[1;32m     14\u001b[0m     betas \u001b[38;5;241m=\u001b[39m beta(omegas, tau, weights)\n",
      "\u001b[0;31mNameError\u001b[0m: name 'np' is not defined"
     ]
    }
   ],
   "source": [
    "w_min = 5\n",
    "w_max = 10\n",
    "\n",
    "tau = 0.02\n",
    "\n",
    "\n",
    "weightf = lambda t: 4/np.pi*np.cos((w_max+w_min)/2*t)*(w_max-w_min)/2*np.sinc((w_max-w_min)/2*t/np.pi)\n",
    "\n",
    "for L in (10,20,50,100,1000):\n",
    "    weights = weightf(tau*np.arange(L))\n",
    "\n",
    "    omegas = np.arange(0,100,0.1)\n",
    "\n",
    "    betas = beta(omegas, tau, weights)\n",
    "    pl.plot(omegas,betas)\n"
   ]
  },
  {
   "cell_type": "code",
   "execution_count": null,
   "id": "e468dd41",
   "metadata": {},
   "outputs": [],
   "source": []
  }
 ],
 "metadata": {
  "kernelspec": {
   "display_name": "Python 3 (ipykernel)",
   "language": "python",
   "name": "python3"
  },
  "language_info": {
   "codemirror_mode": {
    "name": "ipython",
    "version": 3
   },
   "file_extension": ".py",
   "mimetype": "text/x-python",
   "name": "python",
   "nbconvert_exporter": "python",
   "pygments_lexer": "ipython3",
   "version": "3.10.12"
  }
 },
 "nbformat": 4,
 "nbformat_minor": 5
}
